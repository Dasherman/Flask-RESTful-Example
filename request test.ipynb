{
 "cells": [
  {
   "cell_type": "code",
   "execution_count": 1,
   "metadata": {},
   "outputs": [],
   "source": [
    "import requests\n",
    "import numpy as np"
   ]
  },
  {
   "cell_type": "code",
   "execution_count": 2,
   "metadata": {},
   "outputs": [],
   "source": [
    "pad = 'C:/Users/Don Vu/Documents/Test/REST API/'\n",
    "\n",
    "url = 'https://obscure-woodland-20046.herokuapp.com/'"
   ]
  },
  {
   "cell_type": "markdown",
   "metadata": {},
   "source": [
    "Voorbeeld van een request naar de API."
   ]
  },
  {
   "cell_type": "code",
   "execution_count": 3,
   "metadata": {},
   "outputs": [
    {
     "data": {
      "text/plain": [
       "'19,female,27.9,0,yes,southwest\\n18,male,33.77,1,no,southeast\\n28,male,33,3,no,southeast\\n33,male,22.705,0,no,northwest\\n32,male,28.88,0,no,northwest\\n31,female,25.74,0,no,southeast\\n46,female,33.44,1,no,southeast\\n37,female,27.74,3,no,northwest\\n37,male,29.83,2,no,northeast\\n60,female,25.84,0,no,northwest\\n25,male,26.22,0,no,northeast\\n62,female,26.29,0,yes,southeast\\n23,male,34.4,0,no,southwest\\n56,female,39.82,0,no,southeast\\n27,male,42.13,0,yes,southeast\\n19,male,24.6,1,no,southwest\\n52,female,30.78,1,no,northeast\\n23,male,23.845,0,no,northeast\\n56,male,40.3,0,no,southwest\\n30,male,35.3,0,yes,southwest\\n60,female,36.005,0,no,northeast\\n30,female,32.4,1,no,southwest\\n18,male,34.1,0,no,southeast\\n34,female,31.92,1,yes,northeast\\n37,male,28.025,2,no,northwest\\n59,female,27.72,3,no,southeast\\n63,female,23.085,0,no,northeast\\n55,female,32.775,2,no,northwest\\n23,male,17.385,1,no,northwest\\n31,male,36.3,2,yes,southwest\\n22,male,35.6,0,yes,southwest\\n18,female,26.315,0,no,northeast\\n19,female,28.6,5,no,southwest\\n63,male,28.31,0,no,northwest\\n28,male,36.4,1,yes,southwest\\n19,male,20.425,0,no,northwest\\n62,female,32.965,3,no,northwest\\n26,male,20.8,0,no,southwest\\n35,male,36.67,1,yes,northeast\\n60,male,39.9,0,yes,southwest\\n24,female,26.6,0,no,northeast\\n31,female,36.63,2,no,southeast\\n41,male,21.78,1,no,southeast\\n37,female,30.8,2,no,southeast\\n38,male,37.05,1,no,northeast\\n55,male,37.3,0,no,southwest\\n18,female,38.665,2,no,northeast\\n28,female,34.77,0,no,northwest\\n60,female,24.53,0,no,southeast\\n36,male,35.2,1,yes,southeast\\n18,female,35.625,0,no,northeast\\n21,female,33.63,2,no,northwest\\n48,male,28,1,yes,southwest\\n36,male,34.43,0,yes,southeast\\n40,female,28.69,3,no,northwest\\n58,male,36.955,2,yes,northwest\\n58,female,31.825,2,no,northeast\\n18,male,31.68,2,yes,southeast\\n53,female,22.88,1,yes,southeast\\n34,female,37.335,2,no,northwest\\n43,male,27.36,3,no,northeast\\n25,male,33.66,4,no,southeast\\n64,male,24.7,1,no,northwest\\n28,female,25.935,1,no,northwest\\n20,female,22.42,0,yes,northwest\\n19,female,28.9,0,no,southwest\\n61,female,39.1,2,no,southwest\\n40,male,26.315,1,no,northwest\\n40,female,36.19,0,no,southeast\\n28,male,23.98,3,yes,southeast\\n27,female,24.75,0,yes,southeast\\n31,male,28.5,5,no,northeast\\n53,female,28.1,3,no,southwest\\n58,male,32.01,1,no,southeast\\n44,male,27.4,2,no,southwest\\n57,male,34.01,0,no,northwest\\n29,female,29.59,1,no,southeast\\n21,male,35.53,0,no,southeast\\n22,female,39.805,0,no,northeast\\n41,female,32.965,0,no,northwest\\n31,male,26.885,1,no,northeast\\n45,female,38.285,0,no,northeast\\n22,male,37.62,1,yes,southeast\\n48,female,41.23,4,no,northwest\\n37,female,34.8,2,yes,southwest\\n45,male,22.895,2,yes,northwest\\n57,female,31.16,0,yes,northwest\\n56,female,27.2,0,no,southwest\\n46,female,27.74,0,no,northwest\\n55,female,26.98,0,no,northwest\\n21,female,39.49,0,no,southeast\\n53,female,24.795,1,no,northwest\\n59,male,29.83,3,yes,northeast\\n35,male,34.77,2,no,northwest\\n64,female,31.3,2,yes,southwest\\n28,female,37.62,1,no,southeast\\n54,female,30.8,3,no,southwest\\n55,male,38.28,0,no,southeast\\n56,male,19.95,0,yes,northeast\\n'"
      ]
     },
     "execution_count": 3,
     "metadata": {},
     "output_type": "execute_result"
    }
   ],
   "source": [
    "data = ''\n",
    "\n",
    "with open(pad+'test.csv', 'r') as f:\n",
    "    #data = f.read().replace(';', ',')\n",
    "    data = f.read().replace(';', ',')\n",
    "\n",
    "query = {'query': data}\n",
    "data"
   ]
  },
  {
   "cell_type": "code",
   "execution_count": 15,
   "metadata": {},
   "outputs": [
    {
     "ename": "JSONDecodeError",
     "evalue": "Expecting value: line 1 column 1 (char 0)",
     "output_type": "error",
     "traceback": [
      "\u001b[1;31m---------------------------------------------------------------------------\u001b[0m",
      "\u001b[1;31mJSONDecodeError\u001b[0m                           Traceback (most recent call last)",
      "\u001b[1;32m<ipython-input-15-e0e209a3a83c>\u001b[0m in \u001b[0;36m<module>\u001b[1;34m\u001b[0m\n\u001b[0;32m      1\u001b[0m \u001b[0mresponse\u001b[0m \u001b[1;33m=\u001b[0m \u001b[0mrequests\u001b[0m\u001b[1;33m.\u001b[0m\u001b[0mget\u001b[0m\u001b[1;33m(\u001b[0m\u001b[0murl\u001b[0m\u001b[1;33m,\u001b[0m \u001b[0mquery\u001b[0m\u001b[1;33m)\u001b[0m\u001b[1;33m\u001b[0m\u001b[1;33m\u001b[0m\u001b[0m\n\u001b[1;32m----> 2\u001b[1;33m \u001b[0moutput\u001b[0m \u001b[1;33m=\u001b[0m \u001b[0mresponse\u001b[0m\u001b[1;33m.\u001b[0m\u001b[0mjson\u001b[0m\u001b[1;33m(\u001b[0m\u001b[1;33m)\u001b[0m\u001b[1;33m\u001b[0m\u001b[1;33m\u001b[0m\u001b[0m\n\u001b[0m",
      "\u001b[1;32m~\\Anaconda3\\lib\\site-packages\\requests\\models.py\u001b[0m in \u001b[0;36mjson\u001b[1;34m(self, **kwargs)\u001b[0m\n\u001b[0;32m    895\u001b[0m                     \u001b[1;31m# used.\u001b[0m\u001b[1;33m\u001b[0m\u001b[1;33m\u001b[0m\u001b[1;33m\u001b[0m\u001b[0m\n\u001b[0;32m    896\u001b[0m                     \u001b[1;32mpass\u001b[0m\u001b[1;33m\u001b[0m\u001b[1;33m\u001b[0m\u001b[0m\n\u001b[1;32m--> 897\u001b[1;33m         \u001b[1;32mreturn\u001b[0m \u001b[0mcomplexjson\u001b[0m\u001b[1;33m.\u001b[0m\u001b[0mloads\u001b[0m\u001b[1;33m(\u001b[0m\u001b[0mself\u001b[0m\u001b[1;33m.\u001b[0m\u001b[0mtext\u001b[0m\u001b[1;33m,\u001b[0m \u001b[1;33m**\u001b[0m\u001b[0mkwargs\u001b[0m\u001b[1;33m)\u001b[0m\u001b[1;33m\u001b[0m\u001b[1;33m\u001b[0m\u001b[0m\n\u001b[0m\u001b[0;32m    898\u001b[0m \u001b[1;33m\u001b[0m\u001b[0m\n\u001b[0;32m    899\u001b[0m     \u001b[1;33m@\u001b[0m\u001b[0mproperty\u001b[0m\u001b[1;33m\u001b[0m\u001b[1;33m\u001b[0m\u001b[0m\n",
      "\u001b[1;32m~\\Anaconda3\\lib\\json\\__init__.py\u001b[0m in \u001b[0;36mloads\u001b[1;34m(s, encoding, cls, object_hook, parse_float, parse_int, parse_constant, object_pairs_hook, **kw)\u001b[0m\n\u001b[0;32m    346\u001b[0m             \u001b[0mparse_int\u001b[0m \u001b[1;32mis\u001b[0m \u001b[1;32mNone\u001b[0m \u001b[1;32mand\u001b[0m \u001b[0mparse_float\u001b[0m \u001b[1;32mis\u001b[0m \u001b[1;32mNone\u001b[0m \u001b[1;32mand\u001b[0m\u001b[1;33m\u001b[0m\u001b[1;33m\u001b[0m\u001b[0m\n\u001b[0;32m    347\u001b[0m             parse_constant is None and object_pairs_hook is None and not kw):\n\u001b[1;32m--> 348\u001b[1;33m         \u001b[1;32mreturn\u001b[0m \u001b[0m_default_decoder\u001b[0m\u001b[1;33m.\u001b[0m\u001b[0mdecode\u001b[0m\u001b[1;33m(\u001b[0m\u001b[0ms\u001b[0m\u001b[1;33m)\u001b[0m\u001b[1;33m\u001b[0m\u001b[1;33m\u001b[0m\u001b[0m\n\u001b[0m\u001b[0;32m    349\u001b[0m     \u001b[1;32mif\u001b[0m \u001b[0mcls\u001b[0m \u001b[1;32mis\u001b[0m \u001b[1;32mNone\u001b[0m\u001b[1;33m:\u001b[0m\u001b[1;33m\u001b[0m\u001b[1;33m\u001b[0m\u001b[0m\n\u001b[0;32m    350\u001b[0m         \u001b[0mcls\u001b[0m \u001b[1;33m=\u001b[0m \u001b[0mJSONDecoder\u001b[0m\u001b[1;33m\u001b[0m\u001b[1;33m\u001b[0m\u001b[0m\n",
      "\u001b[1;32m~\\Anaconda3\\lib\\json\\decoder.py\u001b[0m in \u001b[0;36mdecode\u001b[1;34m(self, s, _w)\u001b[0m\n\u001b[0;32m    335\u001b[0m \u001b[1;33m\u001b[0m\u001b[0m\n\u001b[0;32m    336\u001b[0m         \"\"\"\n\u001b[1;32m--> 337\u001b[1;33m         \u001b[0mobj\u001b[0m\u001b[1;33m,\u001b[0m \u001b[0mend\u001b[0m \u001b[1;33m=\u001b[0m \u001b[0mself\u001b[0m\u001b[1;33m.\u001b[0m\u001b[0mraw_decode\u001b[0m\u001b[1;33m(\u001b[0m\u001b[0ms\u001b[0m\u001b[1;33m,\u001b[0m \u001b[0midx\u001b[0m\u001b[1;33m=\u001b[0m\u001b[0m_w\u001b[0m\u001b[1;33m(\u001b[0m\u001b[0ms\u001b[0m\u001b[1;33m,\u001b[0m \u001b[1;36m0\u001b[0m\u001b[1;33m)\u001b[0m\u001b[1;33m.\u001b[0m\u001b[0mend\u001b[0m\u001b[1;33m(\u001b[0m\u001b[1;33m)\u001b[0m\u001b[1;33m)\u001b[0m\u001b[1;33m\u001b[0m\u001b[1;33m\u001b[0m\u001b[0m\n\u001b[0m\u001b[0;32m    338\u001b[0m         \u001b[0mend\u001b[0m \u001b[1;33m=\u001b[0m \u001b[0m_w\u001b[0m\u001b[1;33m(\u001b[0m\u001b[0ms\u001b[0m\u001b[1;33m,\u001b[0m \u001b[0mend\u001b[0m\u001b[1;33m)\u001b[0m\u001b[1;33m.\u001b[0m\u001b[0mend\u001b[0m\u001b[1;33m(\u001b[0m\u001b[1;33m)\u001b[0m\u001b[1;33m\u001b[0m\u001b[1;33m\u001b[0m\u001b[0m\n\u001b[0;32m    339\u001b[0m         \u001b[1;32mif\u001b[0m \u001b[0mend\u001b[0m \u001b[1;33m!=\u001b[0m \u001b[0mlen\u001b[0m\u001b[1;33m(\u001b[0m\u001b[0ms\u001b[0m\u001b[1;33m)\u001b[0m\u001b[1;33m:\u001b[0m\u001b[1;33m\u001b[0m\u001b[1;33m\u001b[0m\u001b[0m\n",
      "\u001b[1;32m~\\Anaconda3\\lib\\json\\decoder.py\u001b[0m in \u001b[0;36mraw_decode\u001b[1;34m(self, s, idx)\u001b[0m\n\u001b[0;32m    353\u001b[0m             \u001b[0mobj\u001b[0m\u001b[1;33m,\u001b[0m \u001b[0mend\u001b[0m \u001b[1;33m=\u001b[0m \u001b[0mself\u001b[0m\u001b[1;33m.\u001b[0m\u001b[0mscan_once\u001b[0m\u001b[1;33m(\u001b[0m\u001b[0ms\u001b[0m\u001b[1;33m,\u001b[0m \u001b[0midx\u001b[0m\u001b[1;33m)\u001b[0m\u001b[1;33m\u001b[0m\u001b[1;33m\u001b[0m\u001b[0m\n\u001b[0;32m    354\u001b[0m         \u001b[1;32mexcept\u001b[0m \u001b[0mStopIteration\u001b[0m \u001b[1;32mas\u001b[0m \u001b[0merr\u001b[0m\u001b[1;33m:\u001b[0m\u001b[1;33m\u001b[0m\u001b[1;33m\u001b[0m\u001b[0m\n\u001b[1;32m--> 355\u001b[1;33m             \u001b[1;32mraise\u001b[0m \u001b[0mJSONDecodeError\u001b[0m\u001b[1;33m(\u001b[0m\u001b[1;34m\"Expecting value\"\u001b[0m\u001b[1;33m,\u001b[0m \u001b[0ms\u001b[0m\u001b[1;33m,\u001b[0m \u001b[0merr\u001b[0m\u001b[1;33m.\u001b[0m\u001b[0mvalue\u001b[0m\u001b[1;33m)\u001b[0m \u001b[1;32mfrom\u001b[0m \u001b[1;32mNone\u001b[0m\u001b[1;33m\u001b[0m\u001b[1;33m\u001b[0m\u001b[0m\n\u001b[0m\u001b[0;32m    356\u001b[0m         \u001b[1;32mreturn\u001b[0m \u001b[0mobj\u001b[0m\u001b[1;33m,\u001b[0m \u001b[0mend\u001b[0m\u001b[1;33m\u001b[0m\u001b[1;33m\u001b[0m\u001b[0m\n",
      "\u001b[1;31mJSONDecodeError\u001b[0m: Expecting value: line 1 column 1 (char 0)"
     ]
    }
   ],
   "source": [
    "response = requests.get(url, query)\n",
    "output = response.json()"
   ]
  },
  {
   "cell_type": "code",
   "execution_count": 5,
   "metadata": {},
   "outputs": [
    {
     "data": {
      "text/plain": [
       "'21708.50066429, 5270.08306429, 4680.98034286, 6808.30289429,  3635.05465714, 6804.86206286, 8335.58328571, 9326.07978571,  9556.84823143,15029.37765286, 2633.55206429,30667.69762857,  4561.40379286,14039.36653429,38250.8105    , 3527.03490571, 10934.26716429, 2104.24938571,13257.46701286,33954.58448571, 12818.46418571, 8868.97252857, 1306.49307143,31620.59725429,  6363.53486429,15755.47362   ,12968.23521429,15387.03166286,  5459.78513429,39504.4402    ,32497.69653286, 3209.53073843,  8691.50949857,12151.48749286,37922.93380714, 4733.11819143, 13704.52861429, 2301.27925   ,36943.88298571,40362.46219286,  2986.18825   , 4683.81725714, 6031.73772857, 6791.04265714,  6995.6501    ,13582.37637714, 9798.27676   , 2624.60790714, 17192.35589286,38842.49384286, 2387.76995   ,10156.38238714, 33164.59917857,35340.4793    , 7943.61040714,47078.52268143, 14942.54366571,33983.75227143,24686.06397143, 6134.47125714,  8065.48757857, 4714.92312857,15712.20556714, 3681.35967857, 22201.87933571, 5741.935917  ,18619.17403143, 6417.84636429,  7582.81561   ,23558.97304286,19469.42153857, 8852.53801143, 15208.80030143,13286.02537571,11988.95137429,10577.30017143,  4271.96438571, 1617.92034286, 4626.75850429, 7045.52926429,  6772.12776571,13542.22172   ,37741.19548571,13680.25704857, 38329.90281857,24292.42175571,31168.62438571,13992.83807286,  8365.93345   ,14359.83122429, 3596.34167857,13271.87215   , 32480.56108571, 7882.58966429,37763.14975714, 3806.25687143, 15764.73283714,10880.91198571,27594.19077429'"
      ]
     },
     "execution_count": 5,
     "metadata": {},
     "output_type": "execute_result"
    }
   ],
   "source": [
    "output['predictions']"
   ]
  },
  {
   "cell_type": "code",
   "execution_count": 6,
   "metadata": {},
   "outputs": [],
   "source": [
    "array = np.fromstring(output['predictions'], sep=',')"
   ]
  },
  {
   "cell_type": "code",
   "execution_count": 7,
   "metadata": {},
   "outputs": [
    {
     "data": {
      "text/plain": [
       "array([21708.50066429,  5270.08306429,  4680.98034286,  6808.30289429,\n",
       "        3635.05465714,  6804.86206286,  8335.58328571,  9326.07978571,\n",
       "        9556.84823143, 15029.37765286,  2633.55206429, 30667.69762857,\n",
       "        4561.40379286, 14039.36653429, 38250.8105    ,  3527.03490571,\n",
       "       10934.26716429,  2104.24938571, 13257.46701286, 33954.58448571,\n",
       "       12818.46418571,  8868.97252857,  1306.49307143, 31620.59725429,\n",
       "        6363.53486429, 15755.47362   , 12968.23521429, 15387.03166286,\n",
       "        5459.78513429, 39504.4402    , 32497.69653286,  3209.53073843,\n",
       "        8691.50949857, 12151.48749286, 37922.93380714,  4733.11819143,\n",
       "       13704.52861429,  2301.27925   , 36943.88298571, 40362.46219286,\n",
       "        2986.18825   ,  4683.81725714,  6031.73772857,  6791.04265714,\n",
       "        6995.6501    , 13582.37637714,  9798.27676   ,  2624.60790714,\n",
       "       17192.35589286, 38842.49384286,  2387.76995   , 10156.38238714,\n",
       "       33164.59917857, 35340.4793    ,  7943.61040714, 47078.52268143,\n",
       "       14942.54366571, 33983.75227143, 24686.06397143,  6134.47125714,\n",
       "        8065.48757857,  4714.92312857, 15712.20556714,  3681.35967857,\n",
       "       22201.87933571,  5741.935917  , 18619.17403143,  6417.84636429,\n",
       "        7582.81561   , 23558.97304286, 19469.42153857,  8852.53801143,\n",
       "       15208.80030143, 13286.02537571, 11988.95137429, 10577.30017143,\n",
       "        4271.96438571,  1617.92034286,  4626.75850429,  7045.52926429,\n",
       "        6772.12776571, 13542.22172   , 37741.19548571, 13680.25704857,\n",
       "       38329.90281857, 24292.42175571, 31168.62438571, 13992.83807286,\n",
       "        8365.93345   , 14359.83122429,  3596.34167857, 13271.87215   ,\n",
       "       32480.56108571,  7882.58966429, 37763.14975714,  3806.25687143,\n",
       "       15764.73283714, 10880.91198571, 27594.19077429])"
      ]
     },
     "execution_count": 7,
     "metadata": {},
     "output_type": "execute_result"
    }
   ],
   "source": [
    "array"
   ]
  },
  {
   "cell_type": "code",
   "execution_count": null,
   "metadata": {},
   "outputs": [],
   "source": []
  }
 ],
 "metadata": {
  "kernelspec": {
   "display_name": "Python 3",
   "language": "python",
   "name": "python3"
  },
  "language_info": {
   "codemirror_mode": {
    "name": "ipython",
    "version": 3
   },
   "file_extension": ".py",
   "mimetype": "text/x-python",
   "name": "python",
   "nbconvert_exporter": "python",
   "pygments_lexer": "ipython3",
   "version": "3.7.3"
  }
 },
 "nbformat": 4,
 "nbformat_minor": 2
}
