{
 "cells": [
  {
   "cell_type": "code",
   "execution_count": 1,
   "metadata": {},
   "outputs": [],
   "source": [
    "import pandas as pd\n",
    "import numpy as np\n",
    "import scipy as sp\n",
    "\n",
    "from sklearn.neighbors import KNeighborsRegressor\n",
    "import sklearn.model_selection as ms\n",
    "\n",
    "import pickle\n",
    "\n",
    "np.random.seed(0)"
   ]
  },
  {
   "cell_type": "markdown",
   "metadata": {},
   "source": [
    "k-nearest neighbour training"
   ]
  },
  {
   "cell_type": "code",
   "execution_count": 2,
   "metadata": {},
   "outputs": [],
   "source": [
    "pad = 'C:/Users/Don Vu/Documents/Test/REST API/'"
   ]
  },
  {
   "cell_type": "code",
   "execution_count": 3,
   "metadata": {},
   "outputs": [],
   "source": [
    "class kNN(object):\n",
    "    \n",
    "    def __init__(self, weights='uniform'):\n",
    "        self.weights = weights #mode for the weights\n",
    "    \n",
    "    def standardize_X(self, X, t_X=None):\n",
    "        #standardizes X variables either using mean and std used for fitting or t_X (if provided).\n",
    "        if np.all(t_X==None):\n",
    "            mean = self.X_mean\n",
    "            std = self.X_std\n",
    "        else:\n",
    "            mean = np.mean(t_X, axis=0)\n",
    "            std = np.std(t_X, axis=0, ddof=1)\n",
    "        \n",
    "        return (X-mean)/std\n",
    "    \n",
    "    def standardize_y(self, y, t_y=None):\n",
    "        #standardizes y variables either using mean and std used for fitting or t_y (if provided).\n",
    "        if np.all(t_y==None):\n",
    "            mean = self.y_mean\n",
    "            std = self.y_std\n",
    "        else:\n",
    "            mean = np.mean(t_y)\n",
    "            std = np.std(t_y, ddof=1)\n",
    "        \n",
    "        return (y-mean)/std\n",
    "    \n",
    "    def destandardize_X(self, X, t_X=None):\n",
    "        if np.all(t_y==None):\n",
    "            mean = self.y_mean\n",
    "            std = self.y_std\n",
    "        else:\n",
    "            mean = np.mean(t_y)\n",
    "            std = np.std(t_y, ddof=1)\n",
    "        \n",
    "        return X*std + mean\n",
    "    \n",
    "    def destandardize_y(self, y, t_y=None):\n",
    "        if np.all(t_y==None):\n",
    "            mean = self.y_mean\n",
    "            std = self.y_std\n",
    "        else:\n",
    "            mean = np.mean(t_y)\n",
    "            std = np.std(t_y, ddof=1)\n",
    "        \n",
    "        return y*std + mean\n",
    "    \n",
    "    def pred(self, X, kNN=None):\n",
    "        if kNN==None:\n",
    "            kNN = self.kNN\n",
    "        \n",
    "        y_pred = kNN.predict(self.standardize_X(X))\n",
    "        y_pred = self.destandardize_y(y_pred)\n",
    "        return y_pred\n",
    "    \n",
    "    def fit(self, X, y, m=5, min_k=1, max_k=None):\n",
    "        #fits kNN. Uses m-fold CV to determine k (maximizing R^2).        \n",
    "        if not max_k:\n",
    "            max_k = int(np.sqrt(len(y)*len(X[0])))\n",
    "        \n",
    "        self.X_mean = np.mean(X, axis=0)\n",
    "        self.y_mean = np.mean(y, axis=0)\n",
    "        self.X_std = np.std(X, axis=0)\n",
    "        self.y_std = np.std(y, axis=0)\n",
    "        \n",
    "        X_standardized = self.standardize_X(X)\n",
    "        y_standardized = self.standardize_y(y)\n",
    "        \n",
    "        splitter = ms.KFold(n_splits=m)\n",
    "        folds = [(train, test) for train, test in splitter.split(X)] #indices\n",
    "        \n",
    "        def MSE(k):\n",
    "            kNN = KNeighborsRegressor(n_neighbors=k, weights=self.weights)\n",
    "            MSEs = []\n",
    "            for train, test in folds:\n",
    "                kNN.fit(X_standardized[train], y_standardized[train])\n",
    "                y_pred = self.pred(X[test], kNN=kNN)\n",
    "                error = y[test] - y_pred\n",
    "                MSEs.append(np.mean(error**2))\n",
    "            \n",
    "            return np.mean(MSEs)\n",
    "        \n",
    "        MSEs = list(map(MSE, range(min_k, max_k+1)))\n",
    "        min_MSE = min(MSEs)\n",
    "        k = MSEs.index(min_MSE)+1\n",
    "        \n",
    "        self.kNN = KNeighborsRegressor(n_neighbors=k, weights=self.weights)\n",
    "        self.kNN.fit(X_standardized, y_standardized)\n",
    "        \n",
    "        return kNN\n",
    "    \n",
    "    def pickle(self, path):\n",
    "        with open(path, 'wb') as f:\n",
    "            pickle.dump(self, f)\n",
    "    "
   ]
  },
  {
   "cell_type": "markdown",
   "metadata": {},
   "source": [
    "Inlezen verzekeringsdata en dummy's maken zodat het een regressormatrix wordt."
   ]
  },
  {
   "cell_type": "code",
   "execution_count": 4,
   "metadata": {},
   "outputs": [],
   "source": [
    "data = pd.read_csv(pad+'insurance.csv')"
   ]
  },
  {
   "cell_type": "code",
   "execution_count": 5,
   "metadata": {},
   "outputs": [
    {
     "data": {
      "text/html": [
       "<div>\n",
       "<style scoped>\n",
       "    .dataframe tbody tr th:only-of-type {\n",
       "        vertical-align: middle;\n",
       "    }\n",
       "\n",
       "    .dataframe tbody tr th {\n",
       "        vertical-align: top;\n",
       "    }\n",
       "\n",
       "    .dataframe thead th {\n",
       "        text-align: right;\n",
       "    }\n",
       "</style>\n",
       "<table border=\"1\" class=\"dataframe\">\n",
       "  <thead>\n",
       "    <tr style=\"text-align: right;\">\n",
       "      <th></th>\n",
       "      <th>age</th>\n",
       "      <th>bmi</th>\n",
       "      <th>children</th>\n",
       "      <th>charges</th>\n",
       "      <th>sex_male</th>\n",
       "      <th>smoker_yes</th>\n",
       "      <th>region_northwest</th>\n",
       "      <th>region_southeast</th>\n",
       "      <th>region_southwest</th>\n",
       "    </tr>\n",
       "  </thead>\n",
       "  <tbody>\n",
       "    <tr>\n",
       "      <th>0</th>\n",
       "      <td>19</td>\n",
       "      <td>27.900</td>\n",
       "      <td>0</td>\n",
       "      <td>16884.92400</td>\n",
       "      <td>0</td>\n",
       "      <td>1</td>\n",
       "      <td>0</td>\n",
       "      <td>0</td>\n",
       "      <td>1</td>\n",
       "    </tr>\n",
       "    <tr>\n",
       "      <th>1</th>\n",
       "      <td>18</td>\n",
       "      <td>33.770</td>\n",
       "      <td>1</td>\n",
       "      <td>1725.55230</td>\n",
       "      <td>1</td>\n",
       "      <td>0</td>\n",
       "      <td>0</td>\n",
       "      <td>1</td>\n",
       "      <td>0</td>\n",
       "    </tr>\n",
       "    <tr>\n",
       "      <th>2</th>\n",
       "      <td>28</td>\n",
       "      <td>33.000</td>\n",
       "      <td>3</td>\n",
       "      <td>4449.46200</td>\n",
       "      <td>1</td>\n",
       "      <td>0</td>\n",
       "      <td>0</td>\n",
       "      <td>1</td>\n",
       "      <td>0</td>\n",
       "    </tr>\n",
       "    <tr>\n",
       "      <th>3</th>\n",
       "      <td>33</td>\n",
       "      <td>22.705</td>\n",
       "      <td>0</td>\n",
       "      <td>21984.47061</td>\n",
       "      <td>1</td>\n",
       "      <td>0</td>\n",
       "      <td>1</td>\n",
       "      <td>0</td>\n",
       "      <td>0</td>\n",
       "    </tr>\n",
       "    <tr>\n",
       "      <th>4</th>\n",
       "      <td>32</td>\n",
       "      <td>28.880</td>\n",
       "      <td>0</td>\n",
       "      <td>3866.85520</td>\n",
       "      <td>1</td>\n",
       "      <td>0</td>\n",
       "      <td>1</td>\n",
       "      <td>0</td>\n",
       "      <td>0</td>\n",
       "    </tr>\n",
       "  </tbody>\n",
       "</table>\n",
       "</div>"
      ],
      "text/plain": [
       "   age     bmi  children      charges  sex_male  smoker_yes  region_northwest  \\\n",
       "0   19  27.900         0  16884.92400         0           1                 0   \n",
       "1   18  33.770         1   1725.55230         1           0                 0   \n",
       "2   28  33.000         3   4449.46200         1           0                 0   \n",
       "3   33  22.705         0  21984.47061         1           0                 1   \n",
       "4   32  28.880         0   3866.85520         1           0                 1   \n",
       "\n",
       "   region_southeast  region_southwest  \n",
       "0                 0                 1  \n",
       "1                 1                 0  \n",
       "2                 1                 0  \n",
       "3                 0                 0  \n",
       "4                 0                 0  "
      ]
     },
     "execution_count": 5,
     "metadata": {},
     "output_type": "execute_result"
    }
   ],
   "source": [
    "data = pd.get_dummies(data, ['sex', 'smoker', 'region'], drop_first=True)\n",
    "data.head()"
   ]
  },
  {
   "cell_type": "code",
   "execution_count": 6,
   "metadata": {},
   "outputs": [],
   "source": [
    "y = data['charges']\n",
    "X = data.drop(columns='charges')\n",
    "headers = X.columns"
   ]
  },
  {
   "cell_type": "code",
   "execution_count": 7,
   "metadata": {},
   "outputs": [],
   "source": [
    "y = np.array(y)\n",
    "X = np.array(X)"
   ]
  },
  {
   "cell_type": "markdown",
   "metadata": {},
   "source": [
    "Nu trainen we het model."
   ]
  },
  {
   "cell_type": "code",
   "execution_count": 8,
   "metadata": {},
   "outputs": [
    {
     "data": {
      "text/plain": [
       "7"
      ]
     },
     "execution_count": 8,
     "metadata": {},
     "output_type": "execute_result"
    }
   ],
   "source": [
    "out = 'model.pickled'\n",
    "\n",
    "model = kNN(weights='uniform')\n",
    "model.fit(X, y, m=10)\n",
    "model.kNN.n_neighbors"
   ]
  },
  {
   "cell_type": "code",
   "execution_count": 9,
   "metadata": {},
   "outputs": [],
   "source": [
    "model.pickle(pad+out)"
   ]
  },
  {
   "cell_type": "code",
   "execution_count": null,
   "metadata": {},
   "outputs": [],
   "source": []
  }
 ],
 "metadata": {
  "kernelspec": {
   "display_name": "Python 3",
   "language": "python",
   "name": "python3"
  },
  "language_info": {
   "codemirror_mode": {
    "name": "ipython",
    "version": 3
   },
   "file_extension": ".py",
   "mimetype": "text/x-python",
   "name": "python",
   "nbconvert_exporter": "python",
   "pygments_lexer": "ipython3",
   "version": "3.7.3"
  }
 },
 "nbformat": 4,
 "nbformat_minor": 2
}
